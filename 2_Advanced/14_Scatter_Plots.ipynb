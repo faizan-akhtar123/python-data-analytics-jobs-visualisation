{
 "cells": [
  {
   "cell_type": "code",
   "execution_count": 1,
   "metadata": {},
   "outputs": [
    {
     "name": "stderr",
     "output_type": "stream",
     "text": [
      "c:\\Users\\FAIZAN AKHTAR\\anaconda3\\envs\\pthon_data_project\\Lib\\site-packages\\tqdm\\auto.py:21: TqdmWarning: IProgress not found. Please update jupyter and ipywidgets. See https://ipywidgets.readthedocs.io/en/stable/user_install.html\n",
      "  from .autonotebook import tqdm as notebook_tqdm\n"
     ]
    }
   ],
   "source": [
    "from datasets import load_dataset\n",
    "import ast\n",
    "import matplotlib.pyplot as plt\n",
    "import pandas as pd"
   ]
  },
  {
   "cell_type": "code",
   "execution_count": 2,
   "metadata": {},
   "outputs": [],
   "source": [
    "my_dataset=load_dataset('lukebarousse/data_jobs')"
   ]
  },
  {
   "cell_type": "code",
   "execution_count": 3,
   "metadata": {},
   "outputs": [],
   "source": [
    "df=my_dataset['train'].to_pandas()"
   ]
  },
  {
   "cell_type": "code",
   "execution_count": 4,
   "metadata": {},
   "outputs": [],
   "source": [
    "df['job_posted_date']=pd.to_datetime(df['job_posted_date'])"
   ]
  },
  {
   "cell_type": "markdown",
   "metadata": {},
   "source": [
    "** Converting skills into list datatype"
   ]
  },
  {
   "cell_type": "code",
   "execution_count": 5,
   "metadata": {},
   "outputs": [],
   "source": [
    "df['job_skills']=df['job_skills'].apply(lambda skill:ast.literal_eval(skill) if pd.notna(skill) else skill)"
   ]
  },
  {
   "cell_type": "code",
   "execution_count": 9,
   "metadata": {},
   "outputs": [
    {
     "data": {
      "text/plain": [
       "list"
      ]
     },
     "execution_count": 9,
     "metadata": {},
     "output_type": "execute_result"
    }
   ],
   "source": [
    "type(df['job_skills'][1])"
   ]
  },
  {
   "cell_type": "markdown",
   "metadata": {},
   "source": [
    "## seperating it into the data coloumn"
   ]
  },
  {
   "cell_type": "markdown",
   "metadata": {},
   "source": [
    "## Seperating the job posting for data analyst only"
   ]
  },
  {
   "cell_type": "code",
   "execution_count": 11,
   "metadata": {},
   "outputs": [],
   "source": [
    "df=df[df['job_title_short']=='Data Analyst']"
   ]
  },
  {
   "cell_type": "code",
   "execution_count": 10,
   "metadata": {},
   "outputs": [],
   "source": [
    "df_exploded=df.explode('job_skills')"
   ]
  },
  {
   "cell_type": "markdown",
   "metadata": {},
   "source": [
    "Grouping and using tuple"
   ]
  },
  {
   "cell_type": "code",
   "execution_count": 17,
   "metadata": {},
   "outputs": [],
   "source": [
    "skills_exploded=df_exploded.groupby('job_skills').agg(\n",
    "    skill_count=('job_skills', 'count'),\n",
    "    median_salary=('salary_year_avg', 'median')\n",
    ")"
   ]
  },
  {
   "cell_type": "code",
   "execution_count": 27,
   "metadata": {},
   "outputs": [
    {
     "data": {
      "text/html": [
       "<div>\n",
       "<style scoped>\n",
       "    .dataframe tbody tr th:only-of-type {\n",
       "        vertical-align: middle;\n",
       "    }\n",
       "\n",
       "    .dataframe tbody tr th {\n",
       "        vertical-align: top;\n",
       "    }\n",
       "\n",
       "    .dataframe thead th {\n",
       "        text-align: right;\n",
       "    }\n",
       "</style>\n",
       "<table border=\"1\" class=\"dataframe\">\n",
       "  <thead>\n",
       "    <tr style=\"text-align: right;\">\n",
       "      <th></th>\n",
       "      <th>skill_count</th>\n",
       "      <th>median_salary</th>\n",
       "    </tr>\n",
       "    <tr>\n",
       "      <th>job_skills</th>\n",
       "      <th></th>\n",
       "      <th></th>\n",
       "    </tr>\n",
       "  </thead>\n",
       "  <tbody>\n",
       "    <tr>\n",
       "      <th>sql</th>\n",
       "      <td>384849</td>\n",
       "      <td>120000.0</td>\n",
       "    </tr>\n",
       "    <tr>\n",
       "      <th>python</th>\n",
       "      <td>380909</td>\n",
       "      <td>125000.0</td>\n",
       "    </tr>\n",
       "    <tr>\n",
       "      <th>aws</th>\n",
       "      <td>145381</td>\n",
       "      <td>135000.0</td>\n",
       "    </tr>\n",
       "    <tr>\n",
       "      <th>azure</th>\n",
       "      <td>132527</td>\n",
       "      <td>125000.0</td>\n",
       "    </tr>\n",
       "    <tr>\n",
       "      <th>r</th>\n",
       "      <td>130892</td>\n",
       "      <td>119550.0</td>\n",
       "    </tr>\n",
       "    <tr>\n",
       "      <th>tableau</th>\n",
       "      <td>127213</td>\n",
       "      <td>111175.0</td>\n",
       "    </tr>\n",
       "    <tr>\n",
       "      <th>excel</th>\n",
       "      <td>127018</td>\n",
       "      <td>92500.0</td>\n",
       "    </tr>\n",
       "    <tr>\n",
       "      <th>spark</th>\n",
       "      <td>114609</td>\n",
       "      <td>140000.0</td>\n",
       "    </tr>\n",
       "    <tr>\n",
       "      <th>power bi</th>\n",
       "      <td>98147</td>\n",
       "      <td>102000.0</td>\n",
       "    </tr>\n",
       "    <tr>\n",
       "      <th>java</th>\n",
       "      <td>85612</td>\n",
       "      <td>134241.0</td>\n",
       "    </tr>\n",
       "  </tbody>\n",
       "</table>\n",
       "</div>"
      ],
      "text/plain": [
       "            skill_count  median_salary\n",
       "job_skills                            \n",
       "sql              384849       120000.0\n",
       "python           380909       125000.0\n",
       "aws              145381       135000.0\n",
       "azure            132527       125000.0\n",
       "r                130892       119550.0\n",
       "tableau          127213       111175.0\n",
       "excel            127018        92500.0\n",
       "spark            114609       140000.0\n",
       "power bi          98147       102000.0\n",
       "java              85612       134241.0"
      ]
     },
     "execution_count": 27,
     "metadata": {},
     "output_type": "execute_result"
    }
   ],
   "source": [
    "skills_exploded.sort_values(by='skill_count', ascending=False).head(10)"
   ]
  },
  {
   "cell_type": "code",
   "execution_count": 37,
   "metadata": {},
   "outputs": [
    {
     "data": {
      "image/png": "[encoded data removed]",
      "text/plain": [
       "<Figure size 640x480 with 1 Axes>"
      ]
     },
     "metadata": {},
     "output_type": "display_data"
    },
    {
     "ename": "ValueError",
     "evalue": "Image size of 190885175x72626454 pixels is too large. It must be less than 2^23 in each direction.",
     "output_type": "error",
     "traceback": [
      "\u001b[1;31m---------------------------------------------------------------------------\u001b[0m",
      "\u001b[1;31mValueError\u001b[0m                                Traceback (most recent call last)",
      "File \u001b[1;32mc:\\Users\\FAIZAN AKHTAR\\anaconda3\\envs\\pthon_data_project\\Lib\\site-packages\\IPython\\core\\formatters.py:402\u001b[0m, in \u001b[0;36mBaseFormatter.__call__\u001b[1;34m(self, obj)\u001b[0m\n\u001b[0;32m    400\u001b[0m     \u001b[38;5;28;01mpass\u001b[39;00m\n\u001b[0;32m    401\u001b[0m \u001b[38;5;28;01melse\u001b[39;00m:\n\u001b[1;32m--> 402\u001b[0m     \u001b[38;5;28;01mreturn\u001b[39;00m \u001b[43mprinter\u001b[49m\u001b[43m(\u001b[49m\u001b[43mobj\u001b[49m\u001b[43m)\u001b[49m\n\u001b[0;32m    403\u001b[0m \u001b[38;5;66;03m# Finally look for special method names\u001b[39;00m\n\u001b[0;32m    404\u001b[0m method \u001b[38;5;241m=\u001b[39m get_real_method(obj, \u001b[38;5;28mself\u001b[39m\u001b[38;5;241m.\u001b[39mprint_method)\n",
      "File \u001b[1;32mc:\\Users\\FAIZAN AKHTAR\\anaconda3\\envs\\pthon_data_project\\Lib\\site-packages\\IPython\\core\\pylabtools.py:170\u001b[0m, in \u001b[0;36mprint_figure\u001b[1;34m(fig, fmt, bbox_inches, base64, **kwargs)\u001b[0m\n\u001b[0;32m    167\u001b[0m     \u001b[38;5;28;01mfrom\u001b[39;00m\u001b[38;5;250m \u001b[39m\u001b[38;5;21;01mmatplotlib\u001b[39;00m\u001b[38;5;21;01m.\u001b[39;00m\u001b[38;5;21;01mbackend_bases\u001b[39;00m\u001b[38;5;250m \u001b[39m\u001b[38;5;28;01mimport\u001b[39;00m FigureCanvasBase\n\u001b[0;32m    168\u001b[0m     FigureCanvasBase(fig)\n\u001b[1;32m--> 170\u001b[0m \u001b[43mfig\u001b[49m\u001b[38;5;241;43m.\u001b[39;49m\u001b[43mcanvas\u001b[49m\u001b[38;5;241;43m.\u001b[39;49m\u001b[43mprint_figure\u001b[49m\u001b[43m(\u001b[49m\u001b[43mbytes_io\u001b[49m\u001b[43m,\u001b[49m\u001b[43m \u001b[49m\u001b[38;5;241;43m*\u001b[39;49m\u001b[38;5;241;43m*\u001b[39;49m\u001b[43mkw\u001b[49m\u001b[43m)\u001b[49m\n\u001b[0;32m    171\u001b[0m data \u001b[38;5;241m=\u001b[39m bytes_io\u001b[38;5;241m.\u001b[39mgetvalue()\n\u001b[0;32m    172\u001b[0m \u001b[38;5;28;01mif\u001b[39;00m fmt \u001b[38;5;241m==\u001b[39m \u001b[38;5;124m'\u001b[39m\u001b[38;5;124msvg\u001b[39m\u001b[38;5;124m'\u001b[39m:\n",
      "File \u001b[1;32mc:\\Users\\FAIZAN AKHTAR\\anaconda3\\envs\\pthon_data_project\\Lib\\site-packages\\matplotlib\\backend_bases.py:2184\u001b[0m, in \u001b[0;36mFigureCanvasBase.print_figure\u001b[1;34m(self, filename, dpi, facecolor, edgecolor, orientation, format, bbox_inches, pad_inches, bbox_extra_artists, backend, **kwargs)\u001b[0m\n\u001b[0;32m   2180\u001b[0m \u001b[38;5;28;01mtry\u001b[39;00m:\n\u001b[0;32m   2181\u001b[0m     \u001b[38;5;66;03m# _get_renderer may change the figure dpi (as vector formats\u001b[39;00m\n\u001b[0;32m   2182\u001b[0m     \u001b[38;5;66;03m# force the figure dpi to 72), so we need to set it again here.\u001b[39;00m\n\u001b[0;32m   2183\u001b[0m     \u001b[38;5;28;01mwith\u001b[39;00m cbook\u001b[38;5;241m.\u001b[39m_setattr_cm(\u001b[38;5;28mself\u001b[39m\u001b[38;5;241m.\u001b[39mfigure, dpi\u001b[38;5;241m=\u001b[39mdpi):\n\u001b[1;32m-> 2184\u001b[0m         result \u001b[38;5;241m=\u001b[39m \u001b[43mprint_method\u001b[49m\u001b[43m(\u001b[49m\n\u001b[0;32m   2185\u001b[0m \u001b[43m            \u001b[49m\u001b[43mfilename\u001b[49m\u001b[43m,\u001b[49m\n\u001b[0;32m   2186\u001b[0m \u001b[43m            \u001b[49m\u001b[43mfacecolor\u001b[49m\u001b[38;5;241;43m=\u001b[39;49m\u001b[43mfacecolor\u001b[49m\u001b[43m,\u001b[49m\n\u001b[0;32m   2187\u001b[0m \u001b[43m            \u001b[49m\u001b[43medgecolor\u001b[49m\u001b[38;5;241;43m=\u001b[39;49m\u001b[43medgecolor\u001b[49m\u001b[43m,\u001b[49m\n\u001b[0;32m   2188\u001b[0m \u001b[43m            \u001b[49m\u001b[43morientation\u001b[49m\u001b[38;5;241;43m=\u001b[39;49m\u001b[43morientation\u001b[49m\u001b[43m,\u001b[49m\n\u001b[0;32m   2189\u001b[0m \u001b[43m            \u001b[49m\u001b[43mbbox_inches_restore\u001b[49m\u001b[38;5;241;43m=\u001b[39;49m\u001b[43m_bbox_inches_restore\u001b[49m\u001b[43m,\u001b[49m\n\u001b[0;32m   2190\u001b[0m \u001b[43m            \u001b[49m\u001b[38;5;241;43m*\u001b[39;49m\u001b[38;5;241;43m*\u001b[39;49m\u001b[43mkwargs\u001b[49m\u001b[43m)\u001b[49m\n\u001b[0;32m   2191\u001b[0m \u001b[38;5;28;01mfinally\u001b[39;00m:\n\u001b[0;32m   2192\u001b[0m     \u001b[38;5;28;01mif\u001b[39;00m bbox_inches \u001b[38;5;129;01mand\u001b[39;00m restore_bbox:\n",
      "File \u001b[1;32mc:\\Users\\FAIZAN AKHTAR\\anaconda3\\envs\\pthon_data_project\\Lib\\site-packages\\matplotlib\\backend_bases.py:2040\u001b[0m, in \u001b[0;36mFigureCanvasBase._switch_canvas_and_return_print_method.<locals>.<lambda>\u001b[1;34m(*args, **kwargs)\u001b[0m\n\u001b[0;32m   2036\u001b[0m     optional_kws \u001b[38;5;241m=\u001b[39m {  \u001b[38;5;66;03m# Passed by print_figure for other renderers.\u001b[39;00m\n\u001b[0;32m   2037\u001b[0m         \u001b[38;5;124m\"\u001b[39m\u001b[38;5;124mdpi\u001b[39m\u001b[38;5;124m\"\u001b[39m, \u001b[38;5;124m\"\u001b[39m\u001b[38;5;124mfacecolor\u001b[39m\u001b[38;5;124m\"\u001b[39m, \u001b[38;5;124m\"\u001b[39m\u001b[38;5;124medgecolor\u001b[39m\u001b[38;5;124m\"\u001b[39m, \u001b[38;5;124m\"\u001b[39m\u001b[38;5;124morientation\u001b[39m\u001b[38;5;124m\"\u001b[39m,\n\u001b[0;32m   2038\u001b[0m         \u001b[38;5;124m\"\u001b[39m\u001b[38;5;124mbbox_inches_restore\u001b[39m\u001b[38;5;124m\"\u001b[39m}\n\u001b[0;32m   2039\u001b[0m     skip \u001b[38;5;241m=\u001b[39m optional_kws \u001b[38;5;241m-\u001b[39m {\u001b[38;5;241m*\u001b[39minspect\u001b[38;5;241m.\u001b[39msignature(meth)\u001b[38;5;241m.\u001b[39mparameters}\n\u001b[1;32m-> 2040\u001b[0m     print_method \u001b[38;5;241m=\u001b[39m functools\u001b[38;5;241m.\u001b[39mwraps(meth)(\u001b[38;5;28;01mlambda\u001b[39;00m \u001b[38;5;241m*\u001b[39margs, \u001b[38;5;241m*\u001b[39m\u001b[38;5;241m*\u001b[39mkwargs: \u001b[43mmeth\u001b[49m\u001b[43m(\u001b[49m\n\u001b[0;32m   2041\u001b[0m \u001b[43m        \u001b[49m\u001b[38;5;241;43m*\u001b[39;49m\u001b[43margs\u001b[49m\u001b[43m,\u001b[49m\u001b[43m \u001b[49m\u001b[38;5;241;43m*\u001b[39;49m\u001b[38;5;241;43m*\u001b[39;49m\u001b[43m{\u001b[49m\u001b[43mk\u001b[49m\u001b[43m:\u001b[49m\u001b[43m \u001b[49m\u001b[43mv\u001b[49m\u001b[43m \u001b[49m\u001b[38;5;28;43;01mfor\u001b[39;49;00m\u001b[43m \u001b[49m\u001b[43mk\u001b[49m\u001b[43m,\u001b[49m\u001b[43m \u001b[49m\u001b[43mv\u001b[49m\u001b[43m \u001b[49m\u001b[38;5;129;43;01min\u001b[39;49;00m\u001b[43m \u001b[49m\u001b[43mkwargs\u001b[49m\u001b[38;5;241;43m.\u001b[39;49m\u001b[43mitems\u001b[49m\u001b[43m(\u001b[49m\u001b[43m)\u001b[49m\u001b[43m \u001b[49m\u001b[38;5;28;43;01mif\u001b[39;49;00m\u001b[43m \u001b[49m\u001b[43mk\u001b[49m\u001b[43m \u001b[49m\u001b[38;5;129;43;01mnot\u001b[39;49;00m\u001b[43m \u001b[49m\u001b[38;5;129;43;01min\u001b[39;49;00m\u001b[43m \u001b[49m\u001b[43mskip\u001b[49m\u001b[43m}\u001b[49m\u001b[43m)\u001b[49m)\n\u001b[0;32m   2042\u001b[0m \u001b[38;5;28;01melse\u001b[39;00m:  \u001b[38;5;66;03m# Let third-parties do as they see fit.\u001b[39;00m\n\u001b[0;32m   2043\u001b[0m     print_method \u001b[38;5;241m=\u001b[39m meth\n",
      "File \u001b[1;32mc:\\Users\\FAIZAN AKHTAR\\anaconda3\\envs\\pthon_data_project\\Lib\\site-packages\\matplotlib\\backends\\backend_agg.py:481\u001b[0m, in \u001b[0;36mFigureCanvasAgg.print_png\u001b[1;34m(self, filename_or_obj, metadata, pil_kwargs)\u001b[0m\n\u001b[0;32m    434\u001b[0m \u001b[38;5;28;01mdef\u001b[39;00m\u001b[38;5;250m \u001b[39m\u001b[38;5;21mprint_png\u001b[39m(\u001b[38;5;28mself\u001b[39m, filename_or_obj, \u001b[38;5;241m*\u001b[39m, metadata\u001b[38;5;241m=\u001b[39m\u001b[38;5;28;01mNone\u001b[39;00m, pil_kwargs\u001b[38;5;241m=\u001b[39m\u001b[38;5;28;01mNone\u001b[39;00m):\n\u001b[0;32m    435\u001b[0m \u001b[38;5;250m    \u001b[39m\u001b[38;5;124;03m\"\"\"\u001b[39;00m\n\u001b[0;32m    436\u001b[0m \u001b[38;5;124;03m    Write the figure to a PNG file.\u001b[39;00m\n\u001b[0;32m    437\u001b[0m \n\u001b[1;32m   (...)\u001b[0m\n\u001b[0;32m    479\u001b[0m \u001b[38;5;124;03m        *metadata*, including the default 'Software' key.\u001b[39;00m\n\u001b[0;32m    480\u001b[0m \u001b[38;5;124;03m    \"\"\"\u001b[39;00m\n\u001b[1;32m--> 481\u001b[0m     \u001b[38;5;28;43mself\u001b[39;49m\u001b[38;5;241;43m.\u001b[39;49m\u001b[43m_print_pil\u001b[49m\u001b[43m(\u001b[49m\u001b[43mfilename_or_obj\u001b[49m\u001b[43m,\u001b[49m\u001b[43m \u001b[49m\u001b[38;5;124;43m\"\u001b[39;49m\u001b[38;5;124;43mpng\u001b[39;49m\u001b[38;5;124;43m\"\u001b[39;49m\u001b[43m,\u001b[49m\u001b[43m \u001b[49m\u001b[43mpil_kwargs\u001b[49m\u001b[43m,\u001b[49m\u001b[43m \u001b[49m\u001b[43mmetadata\u001b[49m\u001b[43m)\u001b[49m\n",
      "File \u001b[1;32mc:\\Users\\FAIZAN AKHTAR\\anaconda3\\envs\\pthon_data_project\\Lib\\site-packages\\matplotlib\\backends\\backend_agg.py:429\u001b[0m, in \u001b[0;36mFigureCanvasAgg._print_pil\u001b[1;34m(self, filename_or_obj, fmt, pil_kwargs, metadata)\u001b[0m\n\u001b[0;32m    424\u001b[0m \u001b[38;5;28;01mdef\u001b[39;00m\u001b[38;5;250m \u001b[39m\u001b[38;5;21m_print_pil\u001b[39m(\u001b[38;5;28mself\u001b[39m, filename_or_obj, fmt, pil_kwargs, metadata\u001b[38;5;241m=\u001b[39m\u001b[38;5;28;01mNone\u001b[39;00m):\n\u001b[0;32m    425\u001b[0m \u001b[38;5;250m    \u001b[39m\u001b[38;5;124;03m\"\"\"\u001b[39;00m\n\u001b[0;32m    426\u001b[0m \u001b[38;5;124;03m    Draw the canvas, then save it using `.image.imsave` (to which\u001b[39;00m\n\u001b[0;32m    427\u001b[0m \u001b[38;5;124;03m    *pil_kwargs* and *metadata* are forwarded).\u001b[39;00m\n\u001b[0;32m    428\u001b[0m \u001b[38;5;124;03m    \"\"\"\u001b[39;00m\n\u001b[1;32m--> 429\u001b[0m     \u001b[43mFigureCanvasAgg\u001b[49m\u001b[38;5;241;43m.\u001b[39;49m\u001b[43mdraw\u001b[49m\u001b[43m(\u001b[49m\u001b[38;5;28;43mself\u001b[39;49m\u001b[43m)\u001b[49m\n\u001b[0;32m    430\u001b[0m     mpl\u001b[38;5;241m.\u001b[39mimage\u001b[38;5;241m.\u001b[39mimsave(\n\u001b[0;32m    431\u001b[0m         filename_or_obj, \u001b[38;5;28mself\u001b[39m\u001b[38;5;241m.\u001b[39mbuffer_rgba(), \u001b[38;5;28mformat\u001b[39m\u001b[38;5;241m=\u001b[39mfmt, origin\u001b[38;5;241m=\u001b[39m\u001b[38;5;124m\"\u001b[39m\u001b[38;5;124mupper\u001b[39m\u001b[38;5;124m\"\u001b[39m,\n\u001b[0;32m    432\u001b[0m         dpi\u001b[38;5;241m=\u001b[39m\u001b[38;5;28mself\u001b[39m\u001b[38;5;241m.\u001b[39mfigure\u001b[38;5;241m.\u001b[39mdpi, metadata\u001b[38;5;241m=\u001b[39mmetadata, pil_kwargs\u001b[38;5;241m=\u001b[39mpil_kwargs)\n",
      "File \u001b[1;32mc:\\Users\\FAIZAN AKHTAR\\anaconda3\\envs\\pthon_data_project\\Lib\\site-packages\\matplotlib\\backends\\backend_agg.py:377\u001b[0m, in \u001b[0;36mFigureCanvasAgg.draw\u001b[1;34m(self)\u001b[0m\n\u001b[0;32m    375\u001b[0m \u001b[38;5;28;01mdef\u001b[39;00m\u001b[38;5;250m \u001b[39m\u001b[38;5;21mdraw\u001b[39m(\u001b[38;5;28mself\u001b[39m):\n\u001b[0;32m    376\u001b[0m     \u001b[38;5;66;03m# docstring inherited\u001b[39;00m\n\u001b[1;32m--> 377\u001b[0m     \u001b[38;5;28mself\u001b[39m\u001b[38;5;241m.\u001b[39mrenderer \u001b[38;5;241m=\u001b[39m \u001b[38;5;28;43mself\u001b[39;49m\u001b[38;5;241;43m.\u001b[39;49m\u001b[43mget_renderer\u001b[49m\u001b[43m(\u001b[49m\u001b[43m)\u001b[49m\n\u001b[0;32m    378\u001b[0m     \u001b[38;5;28mself\u001b[39m\u001b[38;5;241m.\u001b[39mrenderer\u001b[38;5;241m.\u001b[39mclear()\n\u001b[0;32m    379\u001b[0m     \u001b[38;5;66;03m# Acquire a lock on the shared font cache.\u001b[39;00m\n",
      "File \u001b[1;32mc:\\Users\\FAIZAN AKHTAR\\anaconda3\\envs\\pthon_data_project\\Lib\\site-packages\\matplotlib\\backends\\backend_agg.py:392\u001b[0m, in \u001b[0;36mFigureCanvasAgg.get_renderer\u001b[1;34m(self)\u001b[0m\n\u001b[0;32m    390\u001b[0m reuse_renderer \u001b[38;5;241m=\u001b[39m (\u001b[38;5;28mself\u001b[39m\u001b[38;5;241m.\u001b[39m_lastKey \u001b[38;5;241m==\u001b[39m key)\n\u001b[0;32m    391\u001b[0m \u001b[38;5;28;01mif\u001b[39;00m \u001b[38;5;129;01mnot\u001b[39;00m reuse_renderer:\n\u001b[1;32m--> 392\u001b[0m     \u001b[38;5;28mself\u001b[39m\u001b[38;5;241m.\u001b[39mrenderer \u001b[38;5;241m=\u001b[39m \u001b[43mRendererAgg\u001b[49m\u001b[43m(\u001b[49m\u001b[43mw\u001b[49m\u001b[43m,\u001b[49m\u001b[43m \u001b[49m\u001b[43mh\u001b[49m\u001b[43m,\u001b[49m\u001b[43m \u001b[49m\u001b[38;5;28;43mself\u001b[39;49m\u001b[38;5;241;43m.\u001b[39;49m\u001b[43mfigure\u001b[49m\u001b[38;5;241;43m.\u001b[39;49m\u001b[43mdpi\u001b[49m\u001b[43m)\u001b[49m\n\u001b[0;32m    393\u001b[0m     \u001b[38;5;28mself\u001b[39m\u001b[38;5;241m.\u001b[39m_lastKey \u001b[38;5;241m=\u001b[39m key\n\u001b[0;32m    394\u001b[0m \u001b[38;5;28;01mreturn\u001b[39;00m \u001b[38;5;28mself\u001b[39m\u001b[38;5;241m.\u001b[39mrenderer\n",
      "File \u001b[1;32mc:\\Users\\FAIZAN AKHTAR\\anaconda3\\envs\\pthon_data_project\\Lib\\site-packages\\matplotlib\\backends\\backend_agg.py:69\u001b[0m, in \u001b[0;36mRendererAgg.__init__\u001b[1;34m(self, width, height, dpi)\u001b[0m\n\u001b[0;32m     67\u001b[0m \u001b[38;5;28mself\u001b[39m\u001b[38;5;241m.\u001b[39mwidth \u001b[38;5;241m=\u001b[39m width\n\u001b[0;32m     68\u001b[0m \u001b[38;5;28mself\u001b[39m\u001b[38;5;241m.\u001b[39mheight \u001b[38;5;241m=\u001b[39m height\n\u001b[1;32m---> 69\u001b[0m \u001b[38;5;28mself\u001b[39m\u001b[38;5;241m.\u001b[39m_renderer \u001b[38;5;241m=\u001b[39m \u001b[43m_RendererAgg\u001b[49m\u001b[43m(\u001b[49m\u001b[38;5;28;43mint\u001b[39;49m\u001b[43m(\u001b[49m\u001b[43mwidth\u001b[49m\u001b[43m)\u001b[49m\u001b[43m,\u001b[49m\u001b[43m \u001b[49m\u001b[38;5;28;43mint\u001b[39;49m\u001b[43m(\u001b[49m\u001b[43mheight\u001b[49m\u001b[43m)\u001b[49m\u001b[43m,\u001b[49m\u001b[43m \u001b[49m\u001b[43mdpi\u001b[49m\u001b[43m)\u001b[49m\n\u001b[0;32m     70\u001b[0m \u001b[38;5;28mself\u001b[39m\u001b[38;5;241m.\u001b[39m_filter_renderers \u001b[38;5;241m=\u001b[39m []\n\u001b[0;32m     72\u001b[0m \u001b[38;5;28mself\u001b[39m\u001b[38;5;241m.\u001b[39m_update_methods()\n",
      "\u001b[1;31mValueError\u001b[0m: Image size of 190885175x72626454 pixels is too large. It must be less than 2^23 in each direction."
     ]
    },
    {
     "data": {
      "text/plain": [
       "<Figure size 640x480 with 1 Axes>"
      ]
     },
     "metadata": {},
     "output_type": "display_data"
    }
   ],
   "source": [
    "skills_exploded.plot(kind='scatter', y='skill_count', x='median_salary')\n",
    "plt.xlabel('Count of job posting')\n",
    "plt.ylabel('Median yearly salary')\n",
    "plt.title('Salary vs Count of job posting for top 10 skills')\n",
    "plt.tight_layout()\n",
    "plt.show()\n",
    "for i, txt in enumerate(skills_exploded.index):\n",
    "    plt.text(skills_exploded['skill_count'].iloc[i], skills_exploded['median_salary'].iloc[i], txt)\n",
    "\n"
   ]
  },
  {
   "cell_type": "code",
   "execution_count": 31,
   "metadata": {},
   "outputs": [
    {
     "data": {
      "text/plain": [
       "pandas.core.frame.DataFrame"
      ]
     },
     "execution_count": 31,
     "metadata": {},
     "output_type": "execute_result"
    }
   ],
   "source": [
    "type(skills_exploded)"
   ]
  },
  {
   "cell_type": "code",
   "execution_count": 34,
   "metadata": {},
   "outputs": [
    {
     "data": {
      "text/plain": [
       "array([[4.52540000e+04, 1.47090500e+05],\n",
       "       [2.96000000e+02, 1.02500000e+05],\n",
       "       [1.22970000e+04, 1.15000000e+05],\n",
       "       [5.35400000e+03, 1.30000000e+05],\n",
       "       [1.15000000e+02, 1.27050000e+05],\n",
       "       [7.88900000e+03, 1.25000000e+05],\n",
       "       [1.95000000e+02, 9.00000000e+04],\n",
       "       [2.80000000e+02, 1.10002500e+05],\n",
       "       [5.56000000e+02, 1.00000000e+05],\n",
       "       [1.22600000e+03, 1.12021250e+05],\n",
       "       [1.84000000e+02, 1.55000000e+05],\n",
       "       [3.00000000e+00,            nan],\n",
       "       [1.91800000e+03, 9.97557500e+04],\n",
       "       [2.38400000e+03, 1.47500000e+05],\n",
       "       [3.19500000e+03, 1.25000000e+05],\n",
       "       [1.45381000e+05, 1.35000000e+05],\n",
       "       [1.32527000e+05, 1.25000000e+05],\n",
       "       [9.89400000e+03, 1.15000000e+05],\n",
       "       [2.40490000e+04, 1.33000000e+05],\n",
       "       [5.04500000e+03, 1.25000000e+05],\n",
       "       [6.70000000e+01, 5.67000000e+04],\n",
       "       [1.56990000e+04, 1.30500000e+05],\n",
       "       [1.67870000e+04, 1.15000000e+05],\n",
       "       [2.14040000e+04, 1.25000000e+05],\n",
       "       [1.50000000e+01,            nan],\n",
       "       [1.24060000e+04, 1.50000000e+05],\n",
       "       [6.59000000e+02, 1.29000000e+05],\n",
       "       [1.30000000e+01, 1.05000000e+05],\n",
       "       [3.71300000e+03, 1.28416500e+05],\n",
       "       [1.32000000e+02, 1.15000000e+05],\n",
       "       [2.94000000e+02, 1.38647500e+05],\n",
       "       [3.60000000e+02, 9.82395000e+04],\n",
       "       [2.49000000e+02, 1.47500000e+05],\n",
       "       [5.42100000e+03, 9.80000000e+04],\n",
       "       [3.68000000e+02, 7.92000000e+04],\n",
       "       [1.07460000e+04, 1.25000000e+05],\n",
       "       [1.32000000e+02, 1.16439000e+05],\n",
       "       [6.39000000e+02, 1.41000000e+05],\n",
       "       [2.13000000e+02, 1.31250000e+05],\n",
       "       [2.48800000e+03, 9.96117500e+04],\n",
       "       [5.76800000e+03, 1.11175000e+05],\n",
       "       [2.45000000e+02, 9.50000000e+04],\n",
       "       [5.31820000e+04, 1.27500000e+05],\n",
       "       [8.03000000e+02, 1.32500000e+05],\n",
       "       [9.24700000e+03, 1.08415500e+05],\n",
       "       [4.49500000e+03, 1.16500000e+05],\n",
       "       [3.01000000e+02, 1.96500000e+05],\n",
       "       [9.00000000e+01, 9.84960000e+04],\n",
       "       [2.00000000e+00,            nan],\n",
       "       [2.75000000e+02, 6.50000000e+04],\n",
       "       [1.00000000e+00,            nan],\n",
       "       [4.01000000e+03, 1.31000000e+05],\n",
       "       [3.80000000e+01,            nan],\n",
       "       [4.17150000e+04, 1.30750000e+05],\n",
       "       [6.70000000e+02, 1.57500000e+05],\n",
       "       [2.00000000e+02, 1.09159000e+05],\n",
       "       [6.98800000e+03, 1.40000000e+05],\n",
       "       [9.93600000e+03, 1.33870500e+05],\n",
       "       [2.30000000e+02, 1.11175000e+05],\n",
       "       [3.11000000e+02, 9.71085000e+04],\n",
       "       [1.20000000e+01,            nan],\n",
       "       [1.35000000e+02, 1.19250000e+05],\n",
       "       [3.00000000e+00,            nan],\n",
       "       [1.27018000e+05, 9.25000000e+04],\n",
       "       [7.41700000e+03, 1.25000000e+05],\n",
       "       [1.57000000e+02,            nan],\n",
       "       [2.23100000e+03, 1.43000000e+05],\n",
       "       [2.60000000e+01, 1.33000000e+05],\n",
       "       [5.10000000e+01,            nan],\n",
       "       [2.21800000e+03, 1.01029000e+05],\n",
       "       [3.34000000e+02, 9.67730000e+04],\n",
       "       [4.80200000e+03, 1.25000000e+05],\n",
       "       [3.19490000e+04, 1.15000000e+05],\n",
       "       [4.91000000e+02, 9.71085000e+04],\n",
       "       [2.83000000e+02, 1.15000000e+05],\n",
       "       [3.40000000e+01, 1.47500000e+05],\n",
       "       [5.07270000e+04, 1.33500000e+05],\n",
       "       [7.08500000e+03, 1.25500000e+05],\n",
       "       [1.28700000e+03, 1.23000000e+05],\n",
       "       [5.02260000e+04, 1.25000000e+05],\n",
       "       [1.99540000e+04, 1.25000000e+05],\n",
       "       [9.44600000e+03, 1.25000000e+05],\n",
       "       [3.86340000e+04, 1.25000000e+05],\n",
       "       [4.18200000e+03, 1.47500000e+05],\n",
       "       [4.40000000e+01,            nan],\n",
       "       [2.67800000e+03, 1.27500000e+05],\n",
       "       [1.01400000e+03, 1.30000000e+05],\n",
       "       [1.00000000e+00,            nan],\n",
       "       [6.48420000e+04, 1.35000000e+05],\n",
       "       [2.53000000e+02, 1.57500000e+05],\n",
       "       [2.10000000e+02, 1.46250000e+05],\n",
       "       [1.40000000e+01, 9.67730000e+04],\n",
       "       [7.86000000e+03, 1.03000000e+05],\n",
       "       [9.83000000e+02, 1.57500000e+05],\n",
       "       [4.00000000e+00,            nan],\n",
       "       [1.69200000e+03, 1.23500000e+05],\n",
       "       [1.32000000e+02,            nan],\n",
       "       [8.56120000e+04, 1.34241000e+05],\n",
       "       [2.52130000e+04, 1.10000000e+05],\n",
       "       [1.98050000e+04, 1.28453500e+05],\n",
       "       [2.34900000e+04, 1.20000000e+05],\n",
       "       [1.50100000e+03, 1.10430000e+05],\n",
       "       [2.46700000e+03, 1.22500000e+05],\n",
       "       [9.40200000e+03, 1.30000000e+05],\n",
       "       [4.99260000e+04, 1.47500000e+05],\n",
       "       [1.70000000e+01, 8.91000000e+04],\n",
       "       [1.23690000e+04, 1.30000000e+05],\n",
       "       [2.36800000e+03, 1.47500000e+05],\n",
       "       [3.73490000e+04, 1.39216000e+05],\n",
       "       [3.42000000e+02, 9.00000000e+04],\n",
       "       [2.00000000e+01,            nan],\n",
       "       [3.07070000e+04, 1.25000000e+05],\n",
       "       [7.50000000e+01, 1.00000000e+05],\n",
       "       [1.99720000e+04, 1.25000000e+05],\n",
       "       [1.87000000e+02, 1.70500000e+05],\n",
       "       [7.96000000e+02, 9.85000000e+04],\n",
       "       [1.13600000e+03, 1.22500000e+05],\n",
       "       [1.19040000e+04, 1.15000000e+05],\n",
       "       [8.90600000e+03, 1.31000000e+05],\n",
       "       [2.40000000e+01,            nan],\n",
       "       [8.00000000e+00,            nan],\n",
       "       [7.38000000e+02, 8.99167500e+04],\n",
       "       [5.30400000e+03, 1.14450000e+05],\n",
       "       [2.50000000e+01,            nan],\n",
       "       [1.12000000e+02, 1.45000000e+05],\n",
       "       [1.77000000e+02, 7.45095000e+04],\n",
       "       [4.42000000e+03, 1.73500000e+05],\n",
       "       [3.63640000e+04, 1.26750000e+05],\n",
       "       [2.87800000e+03, 8.75550000e+04],\n",
       "       [1.00000000e+00,            nan],\n",
       "       [1.14700000e+03, 1.37500000e+05],\n",
       "       [2.55480000e+04, 1.31040000e+05],\n",
       "       [3.74200000e+03, 1.47500000e+05],\n",
       "       [2.09000000e+02, 1.45000000e+05],\n",
       "       [2.48500000e+03, 1.25000000e+05],\n",
       "       [2.84100000e+03, 1.40000000e+05],\n",
       "       [1.99900000e+03, 1.45750000e+05],\n",
       "       [3.05900000e+03, 1.25000000e+05],\n",
       "       [4.50700000e+04, 1.38640000e+05],\n",
       "       [1.80200000e+03, 1.24750000e+05],\n",
       "       [4.28000000e+02, 1.11175000e+05],\n",
       "       [4.20000000e+01,            nan],\n",
       "       [2.04490000e+04, 1.35000000e+05],\n",
       "       [1.20000000e+01,            nan],\n",
       "       [1.58000000e+02, 1.31825000e+05],\n",
       "       [3.50000000e+01,            nan],\n",
       "       [2.18500000e+03, 1.35000000e+05],\n",
       "       [7.88000000e+02, 1.30400000e+05],\n",
       "       [4.52210000e+04, 1.12500000e+05],\n",
       "       [8.97300000e+03, 9.00000000e+04],\n",
       "       [9.80000000e+01,            nan],\n",
       "       [3.21880000e+04, 1.36500000e+05],\n",
       "       [6.80000000e+01, 9.20000000e+04],\n",
       "       [4.70800000e+03, 1.25778750e+05],\n",
       "       [1.78000000e+03, 1.23600000e+05],\n",
       "       [4.36600000e+03, 1.15000000e+05],\n",
       "       [1.03100000e+03, 8.65000000e+04],\n",
       "       [6.00000000e+01,            nan],\n",
       "       [4.19500000e+03, 1.19500000e+05],\n",
       "       [2.06960000e+04, 1.22461297e+05],\n",
       "       [9.81470000e+04, 1.02000000e+05],\n",
       "       [1.70000000e+02,            nan],\n",
       "       [2.85600000e+04, 9.36000000e+04],\n",
       "       [7.15000000e+03, 1.15000000e+05],\n",
       "       [4.57000000e+02, 9.67730000e+04],\n",
       "       [1.72400000e+03, 1.23300000e+05],\n",
       "       [3.22010000e+04, 1.30400000e+05],\n",
       "       [3.80909000e+05, 1.25000000e+05],\n",
       "       [2.72710000e+04, 1.47500000e+05],\n",
       "       [1.69130000e+04, 1.11175000e+05],\n",
       "       [1.53000000e+02, 1.10000000e+05],\n",
       "       [1.30892000e+05, 1.19550000e+05],\n",
       "       [9.20800000e+03, 1.17500000e+05],\n",
       "       [6.53000000e+02, 1.15800000e+05],\n",
       "       [8.67000000e+02, 1.22000000e+05],\n",
       "       [5.71400000e+03, 1.47500000e+05],\n",
       "       [3.34060000e+04, 1.40000000e+05],\n",
       "       [1.05000000e+02, 1.82500000e+05],\n",
       "       [1.00000000e+00,            nan],\n",
       "       [7.77000000e+02, 1.43250000e+05],\n",
       "       [8.78400000e+03, 1.33000000e+05],\n",
       "       [6.16000000e+02, 1.50000000e+05],\n",
       "       [1.00000000e+00,            nan],\n",
       "       [1.95800000e+03, 1.47500000e+05],\n",
       "       [2.91160000e+04, 1.05000000e+05],\n",
       "       [8.34040000e+04, 1.10000000e+05],\n",
       "       [3.62000000e+02, 1.17500000e+05],\n",
       "       [5.68860000e+04, 1.47500000e+05],\n",
       "       [2.00640000e+04, 1.37610000e+05],\n",
       "       [3.74700000e+03, 1.22500000e+05],\n",
       "       [2.29700000e+03, 1.25000000e+05],\n",
       "       [8.77300000e+03, 9.41337500e+04],\n",
       "       [5.58800000e+03, 9.00000000e+04],\n",
       "       [1.85800000e+04, 1.45125000e+05],\n",
       "       [1.10000000e+01,            nan],\n",
       "       [2.58600000e+03, 1.02500000e+05],\n",
       "       [6.40000000e+02, 6.50000000e+04],\n",
       "       [5.50150000e+04, 1.35000000e+05],\n",
       "       [4.38000000e+02, 1.52500000e+05],\n",
       "       [1.14609000e+05, 1.40000000e+05],\n",
       "       [5.10700000e+03, 1.34450000e+05],\n",
       "       [3.65500000e+03, 9.25000000e+04],\n",
       "       [7.22500000e+03, 1.15000000e+05],\n",
       "       [1.03500000e+04, 9.94852031e+04],\n",
       "       [3.84849000e+05, 1.20000000e+05],\n",
       "       [4.01970000e+04, 1.11145500e+05],\n",
       "       [3.67000000e+02, 1.18000000e+05],\n",
       "       [2.80000000e+01,            nan],\n",
       "       [1.87920000e+04, 1.12500000e+05],\n",
       "       [9.26500000e+03, 1.01934750e+05],\n",
       "       [1.20000000e+02, 1.25000000e+05],\n",
       "       [1.04000000e+02, 9.45750000e+04],\n",
       "       [1.19700000e+03, 1.25000000e+05],\n",
       "       [1.88400000e+03, 1.15000000e+05],\n",
       "       [1.61000000e+02,            nan],\n",
       "       [2.88000000e+02, 9.00000000e+04],\n",
       "       [8.74800000e+03, 1.15000000e+05],\n",
       "       [1.27213000e+05, 1.11175000e+05],\n",
       "       [3.31900000e+04, 1.45000000e+05],\n",
       "       [1.67600000e+03, 1.01662875e+05],\n",
       "       [2.04070000e+04, 1.36000000e+05],\n",
       "       [8.77000000e+02, 1.51250000e+05],\n",
       "       [7.50000000e+01,            nan],\n",
       "       [8.75000000e+02, 1.20000000e+05],\n",
       "       [5.69000000e+02, 8.91000000e+04],\n",
       "       [2.49000000e+02, 1.31090000e+05],\n",
       "       [5.13300000e+03, 1.40000000e+05],\n",
       "       [1.24200000e+03, 1.30250000e+05],\n",
       "       [1.30900000e+03, 1.16416500e+05],\n",
       "       [1.69200000e+03, 1.17275000e+05],\n",
       "       [1.16940000e+04, 1.15000000e+05],\n",
       "       [2.85000000e+02, 9.06700000e+04],\n",
       "       [4.83000000e+02, 8.08500000e+04],\n",
       "       [1.26920000e+04, 9.85000000e+04],\n",
       "       [5.30200000e+03, 1.00000000e+05],\n",
       "       [2.21500000e+03, 9.51500000e+04],\n",
       "       [1.00000000e+00,            nan],\n",
       "       [2.77800000e+03, 1.22500000e+05],\n",
       "       [2.94200000e+03, 1.45000000e+05],\n",
       "       [6.20000000e+02, 9.40500000e+04],\n",
       "       [9.41000000e+02, 1.57500000e+05],\n",
       "       [2.35000000e+02, 8.12500000e+04],\n",
       "       [1.00000000e+00,            nan],\n",
       "       [1.33040000e+04, 1.05700000e+05],\n",
       "       [4.65000000e+02, 9.36387461e+04],\n",
       "       [3.05720000e+04, 9.48550000e+04],\n",
       "       [8.00000000e+01, 9.34800547e+04],\n",
       "       [7.30000000e+01, 1.01250000e+05],\n",
       "       [9.60000000e+01,            nan],\n",
       "       [6.20000000e+01, 1.21250000e+05],\n",
       "       [2.17100000e+03, 9.67730000e+04],\n",
       "       [1.89300000e+03, 1.21500000e+05]])"
      ]
     },
     "execution_count": 34,
     "metadata": {},
     "output_type": "execute_result"
    }
   ],
   "source": [
    "skills_exploded.values"
   ]
  },
  {
   "cell_type": "code",
   "execution_count": null,
   "metadata": {},
   "outputs": [],
   "source": []
  }
 ],
 "metadata": {
  "kernelspec": {
   "display_name": "pthon_data_project",
   "language": "python",
   "name": "python3"
  },
  "language_info": {
   "codemirror_mode": {
    "name": "ipython",
    "version": 3
   },
   "file_extension": ".py",
   "mimetype": "text/x-python",
   "name": "python",
   "nbconvert_exporter": "python",
   "pygments_lexer": "ipython3",
   "version": "3.12.8"
  }
 },
 "nbformat": 4,
 "nbformat_minor": 2
}
